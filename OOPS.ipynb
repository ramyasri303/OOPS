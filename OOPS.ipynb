{
  "nbformat": 4,
  "nbformat_minor": 0,
  "metadata": {
    "colab": {
      "provenance": []
    },
    "kernelspec": {
      "name": "python3",
      "display_name": "Python 3"
    },
    "language_info": {
      "name": "python"
    }
  },
  "cells": [
    {
      "cell_type": "markdown",
      "source": [
        "1. What is Object-Oriented Programming(OOP)?\n",
        "-> Object-Oriented Programming (OOP) is a programming paradigm that organizes software design around objects rather than functions and logic. An object is a self-contained unit that contains both data (attributes) and methods (functions) that operate on the data.\n",
        " Key Concepts of OOP:\n",
        "1. Class:\n",
        "A blueprint for creating objects.\n",
        "Defines the structure and behavior (data and functions).\n",
        "2. Object:\n",
        "An instance of a class.\n",
        "Created from a class and represents a real-world entity.\n",
        "3. Encapsulation:\n",
        "Hides internal data and only exposes necessary parts through methods.\n",
        "Promotes security and reduces complexity.\n",
        "4. Inheritance:\n",
        "One class can inherit properties and methods from another class.\n",
        "Helps in code reuse.\n",
        "5. Polymorphism:\n",
        "Same method name behaves differently in different classes.\n",
        "Example: A method drive() can behave differently for a Car and a Bike.\n",
        "6. Abstraction:\n",
        "Hides complex details and shows only essential features.\n",
        "\n",
        "\n",
        "\n",
        "\n",
        "\n"
      ],
      "metadata": {
        "id": "uBRgRIqnONiX"
      }
    },
    {
      "cell_type": "markdown",
      "source": [
        "3. What is a class in OOP?\n",
        "-> In object-oriented programming, a class is a blueprint for creating objects (a particular data structure), providing initial values for state (member variables or attributes), and implementations of behavior (member functions or methods).\n",
        "The user-defined objects are created using the class keyword. The class is a blueprint that defines a nature of a future object. An instance is a specific object created from a particular class. Classes are used to create and manage new objects and support inheritance—a key ingredient in object-oriented programming and a mechanism of reusing code.\n",
        "\n",
        "\n",
        "\n"
      ],
      "metadata": {
        "id": "rU1I4f5QPd5g"
      }
    },
    {
      "cell_type": "markdown",
      "source": [
        "3. What is an object in OOP?\n",
        "-> Object-Oriented Programming (OOP) is a programming paradigm based on the concept of \"objects\", which can contain data in the form of fields (often known as attributes or properties) and code in the form of procedures (often known as methods). OOP focuses on the objects that developers want to manipulate rather than the logic required to manipulate them, allowing for more natural, manageable, and modular software development. This approach is especially effective for building large, complex systems where code reuse, scalability, and efficiency are critical.\n",
        "\n",
        "\n"
      ],
      "metadata": {
        "id": "2v2zARVFQEks"
      }
    },
    {
      "cell_type": "markdown",
      "source": [
        "4. What is the difference between abstraction and encapsulation?\n",
        "-> Parameter\tEncapsulation\t  Abstraction\n",
        "Process       It is the       It is a or\n",
        "                or method      method of\n",
        "               for  the        obtaining\n",
        "               containing    information.\n",
        "              information. \t  \n",
        "\n"
      ],
      "metadata": {
        "id": "yje7sdWkQuYW"
      }
    },
    {
      "cell_type": "markdown",
      "source": [
        "5. What are dunder methods in Python?\n",
        "-> Dunder methods, also known as magic methods or special methods, are predefined methods in Python that have double underscores (or “dunders”) at the beginning and end of their names. These methods provide a way to define specific behaviors for built-in operations or functionalities in Python classes. By implementing dunder methods, you can customize the behavior of your objects and make them work seamlessly with Python’s language constructs.\n",
        "1. __init__(self, ...): This is the constructor method that gets called when an object is created from a class. It initializes the object's attributes and performs any necessary setup.\n",
        "2. __str__(self): This method returns a string representation of the object and is invoked by the built-in str() function or when an object is printed. It provides a human-readable representation of the object.\n",
        "3. __repr__(self): This method returns a string that represents the object in a way that can be used to recreate the object. It is invoked by the built-in repr() function and is typically used for debugging purposes.\n",
        "4.__len__(self): This method returns the length of an object and is invoked by the built-in len() function. It is commonly used for sequences like lists, tuples, or strings.\n",
        "5. __getitem__(self, key): This method enables object indexing and slicing. It allows you to access elements of an object using square brackets ([]).\n",
        "6.__setitem__(self, key, value): This method enables object assignment with indexing. It allows you to set values for elements of an object using square brackets ([]).\n",
        "7. __delitem__(self, key): This method allows you to delete elements from an object using the del statement and square brackets ([]).\n",
        "8. __eq__(self, other):\n",
        "9. __lt__(self, other), __gt__(self, other), __le__(self, other), __ge__(self, other):\n",
        "10. __add__(self, other):\n",
        "\n"
      ],
      "metadata": {
        "id": "-4v7EZvGSfUv"
      }
    },
    {
      "cell_type": "markdown",
      "source": [
        "6. Explain the concept of inheritance in OOP?\n",
        "-> In object-oriented programming (OOP), inheritance is a mechanism that allows a class to inherit properties and behaviors from another class. It is a fundamental concept in OOP that promotes code reuse and establishes relationships between classes.\n",
        "Inheritance in oops is based on a hierarchical relationship between classes, where a derived class (also known as a subclass or child class) inherits the characteristics of a base class (also known as a superclass or parent class). The derived class extends the functionality of the base class by adding new features or overriding existing ones.\n"
      ],
      "metadata": {
        "id": "J9y-yfzqTkAq"
      }
    },
    {
      "cell_type": "markdown",
      "source": [
        "7. What is polymorphism in OOP?\n",
        "-> Polymorphism is a popular concept in object-oriented programming (OOP), referring to the idea that an entity in code such as a variable, function or object can have more than one form. The word polymorphism is derived from Greek and means \"having multiple forms.\" Apart from computer programming, the idea of polymorphism occurs in other real-world areas, including biology, chemistry and drug development.\n",
        "Polymorphism is one of the most important concepts in OOP. It describes the ability of something to have or to be displayed in more than one form. The different forms arise because these entities can be assigned different meanings and used in various ways in multiple contexts.\n",
        "Many programming languages display or allow polymorphism, including Java, Ruby, C++, PHP and Python. In these languages, polymorphism enables class objects belonging to the same hierarchical tree to behave differently, even though they might have functions with the same name. In PHP, for example, polymorphism means that if B is a descendant of A and a function can accept A as a parameter, then it can also accept B as a parameter.\n",
        "\n"
      ],
      "metadata": {
        "id": "sD6PgzMcT6A2"
      }
    },
    {
      "cell_type": "markdown",
      "source": [
        "8. How is encapsulation achieved in Python?\n",
        "-> Encapsulation is used with abstraction to define the level of access you want to give a user. Consider the following use cases:\n",
        "When you log in to check your mails on Gmail, yahoo mail, outlook, etc., you enter your password for logging. The password is then encrypted and verified, and access is granted on successful verification.\n",
        "But being a user, you don’t know how your password is being verified in the backend, keeping your account safe. This is one of the many actual cases of how Encapsulation is used in the industry.\n",
        "You don’t want your bank balance to be a piece of public information, right! This will be the case if the balance variable in the banking app is declared a public variable. And in this case, anyone could know your account balance. So, would you like it? Obviously, not!\n",
        "\n",
        "So, to avoid this case, developers declare the balance variable as private to keep the details safe so that no one can see your account balance.\n",
        "\n",
        "The person who wants to check his account balance will be authenticated. Only the authenticated users can access the private members defined inside that class. This private method would be an account verification method that will match your saved account number or userID and password in the database with the entered details (userID and password) for authentication.\n",
        "\n",
        "\n",
        "\n"
      ],
      "metadata": {
        "id": "pjDwk4EqUdOl"
      }
    },
    {
      "cell_type": "markdown",
      "source": [
        "9. What is a constructor in Python?\n",
        "-> In Python, a constructor is a special method that is automatically called when an object of a class is created. It is used to initialize the attributes of the object. The constructor method is named init and it is defined within the class definition.\n",
        "\n",
        "\n"
      ],
      "metadata": {
        "id": "ljtBz8lS0tWs"
      }
    },
    {
      "cell_type": "markdown",
      "source": [
        "10. What are class and static methods in Python?\n",
        "-> class:\n",
        "A class method is a method that is bound to the class and not the instance of the class. It can modify the class state that applies across all instances of the class.\n",
        "Defined using the @classmethod decorator.\n",
        "Takes cls as the first argument (not self).\n",
        "Can be used to create or modify class-level data.\n",
        "static:\n",
        "A static method does not receive an implicit first argument (self or cls). It behaves like a regular function but belongs to the class’s namespace.\n",
        "Defined using the @staticmethod decorator.\n",
        "Does not access or modify the class or instance state.\n",
        "Used for utility/helper functions that relate to the class.\n",
        "\n",
        "\n",
        "\n",
        "\n",
        "\n"
      ],
      "metadata": {
        "id": "UuRBtiA21Ewi"
      }
    },
    {
      "cell_type": "markdown",
      "source": [
        "11. What is method overloading in Python?\n",
        "->  Method overloading, in essence, allows defining multiple methods within a class that share the same name but have different parameter lists or signatures. Python, however, doesn't directly support conventional method overloading like some other languages (e.g., Java). Instead, it achieves the same effect through flexible argument handling techniques like default arguments, variable-length arguments (*args, **kwargs), and conditional logic within the function. This approach provides versatility and reduces code duplication, allowing developers to handle various input scenarios with a single function\n"
      ],
      "metadata": {
        "id": "TD819tqL1w1i"
      }
    },
    {
      "cell_type": "markdown",
      "source": [
        "12. What is method overriding in OOP?\n",
        "-> In Object-Oriented Programming (OOP), method overriding allows a subclass to provide a specific implementation of a method that is already defined in its superclass, enabling specialized behavior while maintaining the same method signature.\n",
        "\n"
      ],
      "metadata": {
        "id": "FCW9EJ7T2FPd"
      }
    },
    {
      "cell_type": "markdown",
      "source": [
        "13. What is a property decorator in Python?\n",
        "-> The Python property decorator makes attributes in a class act like read-only properties. Essentially, it lets you access methods as if they were attributes, without needing of it.\n"
      ],
      "metadata": {
        "id": "JiNY1xxt2ZHy"
      }
    },
    {
      "cell_type": "markdown",
      "source": [
        "14. Why is polymorphism important in OOP?\n",
        "-> it allows you to treat objects of different classes as objects of a common type, enabling code reuse, flexibility, and extensibility. This means you can write code that works with multiple types of objects using a single interface, simplifying development and maintenance.\n",
        "\n"
      ],
      "metadata": {
        "id": "XKHwhute2sOb"
      }
    },
    {
      "cell_type": "markdown",
      "source": [
        "15. What is an abstract class in Python?\n",
        "-> In Python, an abstract class is a class that cannot be instantiated on its own and is meant to be subclassed by other classes. Abstract classes are created using the abc (Abstract Base Classes) module. Abstract classes may contain abstract methods, which are methods that are declared in the abstract class but don't have an implementation. Subclasses of the abstract class are required to provide implementations for these abstract methods.\n",
        "\n",
        "\n"
      ],
      "metadata": {
        "id": "7J0ZJ5MPBiEw"
      }
    },
    {
      "cell_type": "markdown",
      "source": [
        "16. What are the advantages of OOP?\n",
        "-> Object-Oriented Programming (OOP) offers several advantages, including enhanced code organization, reusability, and flexibility. These advantages contribute to improved productivity, maintainability, and scalability in software development."
      ],
      "metadata": {
        "id": "VAJ66l-vGpcb"
      }
    },
    {
      "cell_type": "markdown",
      "source": [
        "17. What is the difference between a class variable and an instance variable?\n",
        "-> Instance Variable:\n",
        "They are declared without using keyword 'static'.\n",
        "Each object of the class gets its own copy of instance variables.\n",
        "They can be accessed only through an object of the class.\n",
        "class variable:\n",
        "They are declared using keyword 'static'.\n",
        "All objects of a class share the same copy of class variables.\n",
        "They can be accessed using the class name or object.\n"
      ],
      "metadata": {
        "id": "zh7t7VMMHdf4"
      }
    },
    {
      "cell_type": "markdown",
      "source": [
        "18. What is multiple inheritance in Python?\n",
        "-> In Python, multiple inheritance allows a class to inherit from multiple parent classes, combining their attributes and methods into a single derived class. This enables the creation of complex class hierarchies and promotes code reuse by inheriting from various base classes.\n",
        "\n"
      ],
      "metadata": {
        "id": "FLzkkS35IV6P"
      }
    },
    {
      "cell_type": "markdown",
      "source": [
        "19. explain the purpose of ‘’__str__’ and ‘__repr__’ ‘ methods in Python?\n",
        "-> In Python, __str__ and __repr__ are special methods that control how objects are represented as strings. __str__ provides a user-friendly, informal string representation for general display (like when using print()), while __repr__ provides a developer-oriented, unambiguous representation suitable for debugging and object reconstruction."
      ],
      "metadata": {
        "id": "lx_B6FndIu6e"
      }
    },
    {
      "cell_type": "markdown",
      "source": [
        "20. What is the significance of the ‘super()’ function in Python?\n",
        "-> The super() function in Python is crucial for handling inheritance and method overriding in object-oriented programming. It allows a subclass to access methods and properties of its parent class, enabling code reuse and avoiding redundant code when extending functionality. super() essentially provides a way for a subclass to invoke a parent class's methods without explicitly naming the parent class, making the code more flexible and maintainable.\n",
        "\n"
      ],
      "metadata": {
        "id": "qswNmf3uI_V-"
      }
    },
    {
      "cell_type": "markdown",
      "source": [
        "21. What is the significance of the __del__ method in Python?\n",
        "-> In Python, the __del__() method is referred to as a destructor method. It is called after an object's garbage collection occurs, which happens after all references to the item have been destroyed."
      ],
      "metadata": {
        "id": "4NdcfEWmJMuW"
      }
    },
    {
      "cell_type": "markdown",
      "source": [
        "22. What is the difference between @staticmethod and @classmethod in Python?\n",
        "-> The only difference between @classmethod and @staticmethod is that in the @classmethod, the class is bound to the method as the first argument (cls). This means that it is easy to access the class, in the method, via the cls argument, instead of having to use the full class name."
      ],
      "metadata": {
        "id": "V0yvDcF0Japm"
      }
    },
    {
      "cell_type": "markdown",
      "source": [
        "23. How does polymorphism work in Python with inheritance?\n",
        "-> Polymorphism in Python, particularly when combined with inheritance, allows objects of different classes to respond to the same method call in their own specific ways. This is achieved through method overriding, where a subclass redefines a method inherited from its parent class, creating different implementations for the same method name\n"
      ],
      "metadata": {
        "id": "8pwJzaj-JqZq"
      }
    },
    {
      "cell_type": "markdown",
      "source": [
        "24. What is method chaining in Python OOP?\n",
        "-> Method chaining in Python, a core concept in object-oriented programming (OOP), allows for a sequence of calls to methods on an object, where each method returns the object itself, enabling subsequent calls to be chained together. This creates a more concise and readable code structure.\n",
        "\n"
      ],
      "metadata": {
        "id": "MK06z2KCJ7xl"
      }
    },
    {
      "cell_type": "markdown",
      "source": [
        "25. What is the purpose of the __call__ method in Python?\n",
        "-> The __call__ method in Python allows instances of a class to be called as if they were functions. By defining __call__, you can make an object callable, meaning you can use parentheses () to execute a specific action when you call the object instance, similar to how you would call a function.\n"
      ],
      "metadata": {
        "id": "OyTwGwp9KG8c"
      }
    },
    {
      "cell_type": "markdown",
      "source": [
        "1. Create a parent class Animal with a method speak() that prints a generic message. Create a child class Dog that overrides the speak() method to print \"Bark!\"?\n"
      ],
      "metadata": {
        "id": "wkJzVe8rKVz8"
      }
    },
    {
      "cell_type": "code",
      "source": [
        "class Animal:\n",
        "    def speak(self):\n",
        "        print(\"The animal makes a sound\")\n",
        "class Dog(Animal):\n",
        "    def speak(self):\n",
        "        print(\"Bark!\")\n",
        "generic_animal = Animal()\n",
        "generic_animal.speak()\n",
        "dog = Dog()\n",
        "dog.speak()"
      ],
      "metadata": {
        "colab": {
          "base_uri": "https://localhost:8080/"
        },
        "id": "rbYBpBo6Kfg6",
        "outputId": "6d79dec8-8a35-4eeb-9b1a-1dc5064ac9e0"
      },
      "execution_count": 1,
      "outputs": [
        {
          "output_type": "stream",
          "name": "stdout",
          "text": [
            "The animal makes a sound\n",
            "Bark!\n"
          ]
        }
      ]
    },
    {
      "cell_type": "markdown",
      "source": [
        "2. Write a program to create an abstract class Shape with a method area(). Derive classes Circle and Rectangle from it and implement the area() method in both?\n"
      ],
      "metadata": {
        "id": "sohLfE1XKy5_"
      }
    },
    {
      "cell_type": "code",
      "source": [
        "from abc import ABC, abstractmethod\n",
        "import math\n",
        "class Shape(ABC):\n",
        "    @abstractmethod\n",
        "    def area(self):\n",
        "        pass\n",
        "class Circle(Shape):\n",
        "    def __init__(self, radius):\n",
        "        self.radius = radius\n",
        "    def area(self):\n",
        "        return math.pi * self.radius ** 2\n",
        "class Rectangle(Shape):\n",
        "    def __init__(self, length, width):\n",
        "        self.length = length\n",
        "        self.width = width\n",
        "    def area(self):\n",
        "        return self.length * self.width\n",
        "circle = Circle(5)\n",
        "rectangle = Rectangle(4, 6)\n",
        "print(\"Area of Circle:\", circle.area())\n",
        "print(\"Area of Rectangle:\", rectangle.area())"
      ],
      "metadata": {
        "colab": {
          "base_uri": "https://localhost:8080/"
        },
        "id": "mHtAoXuwLIIs",
        "outputId": "9d3ed158-4464-4656-ab4c-e7a3ed30fd13"
      },
      "execution_count": 2,
      "outputs": [
        {
          "output_type": "stream",
          "name": "stdout",
          "text": [
            "Area of Circle: 78.53981633974483\n",
            "Area of Rectangle: 24\n"
          ]
        }
      ]
    },
    {
      "cell_type": "markdown",
      "source": [
        "3. Implement a multi-level inheritance scenario where a class Vehicle has an attribute type. Derive a class Car and further derive a class ElectricCar that adds a battery attribute.?\n"
      ],
      "metadata": {
        "id": "YPoQiSASLlDM"
      }
    },
    {
      "cell_type": "code",
      "source": [
        "class Vehicle:\n",
        "    def __init__(self, vehicle_type):\n",
        "        self.type = vehicle_type\n",
        "class Car(Vehicle):\n",
        "    def __init__(self, vehicle_type, brand):\n",
        "        super().__init__(vehicle_type)\n",
        "        self.brand = brand\n",
        "class ElectricCar(Car):\n",
        "    def __init__(self, vehicle_type, brand, battery_capacity):\n",
        "        super().__init__(vehicle_type, brand)\n",
        "        self.battery = battery_capacity\n",
        "    def display_info(self):\n",
        "        print(f\"Type: {self.type}\")\n",
        "        print(f\"Brand: {self.brand}\")\n",
        "        print(f\"Battery Capacity: {self.battery} kWh\")\n",
        "my_electric_car = ElectricCar(\"Four Wheeler\", \"Tesla\", 75)\n",
        "my_electric_car.display_info()"
      ],
      "metadata": {
        "colab": {
          "base_uri": "https://localhost:8080/"
        },
        "id": "ggi7knwJLv8F",
        "outputId": "e00d0fa7-01ff-489c-8f1e-9e6986c59c25"
      },
      "execution_count": 1,
      "outputs": [
        {
          "output_type": "stream",
          "name": "stdout",
          "text": [
            "Type: Four Wheeler\n",
            "Brand: Tesla\n",
            "Battery Capacity: 75 kWh\n"
          ]
        }
      ]
    },
    {
      "cell_type": "markdown",
      "source": [
        "4. Demonstrate polymorphism by creating a base class Bird with a method fly(). Create two derived classes Sparrow and Penguin that override the fly() method?\n",
        "\n"
      ],
      "metadata": {
        "id": "UHCbMu0_QJNW"
      }
    },
    {
      "cell_type": "code",
      "source": [
        "class Bird:\n",
        "    def fly(self):\n",
        "        print(\"Bird is flying\")\n",
        "class Sparrow(Bird):\n",
        "    def fly(self):\n",
        "        print(\"Sparrow flies high in the sky\")\n",
        "class Penguin(Bird):\n",
        "    def fly(self):\n",
        "        print(\"Penguins can't fly, they swim instead\")\n",
        "def bird_flight(bird):\n",
        "    bird.fly()\n",
        "bird1 = Sparrow()\n",
        "bird2 = Penguin()\n",
        "bird_flight(bird1)  # Output: Sparrow flies high in the sky\n",
        "bird_flight(bird2)  # Output: Penguins can't fly, they swim instead"
      ],
      "metadata": {
        "colab": {
          "base_uri": "https://localhost:8080/"
        },
        "id": "gqD3oUMkQQgC",
        "outputId": "04124a69-a642-4af8-9621-6ee7aba6ced2"
      },
      "execution_count": 2,
      "outputs": [
        {
          "output_type": "stream",
          "name": "stdout",
          "text": [
            "Sparrow flies high in the sky\n",
            "Penguins can't fly, they swim instead\n"
          ]
        }
      ]
    },
    {
      "cell_type": "markdown",
      "source": [
        "5. Write a program to demonstrate encapsulation by creating a class BankAccount with private attributes balance and methods to deposit, withdraw, and check balance?\n"
      ],
      "metadata": {
        "id": "ykEWddnLQQ72"
      }
    },
    {
      "cell_type": "code",
      "source": [
        "class BankAccount:\n",
        "    def __init__(self, initial_balance):\n",
        "        self.__balance = initial_balance\n",
        "    def deposit(self, amount):\n",
        "        if amount > 0:\n",
        "            self.__balance += amount\n",
        "            print(f\"Deposited: ₹{amount}\")\n",
        "        else:\n",
        "            print(\"Invalid deposit amount.\")\n",
        "    def withdraw(self, amount):\n",
        "        if 0 < amount <= self.__balance:\n",
        "            self.__balance -= amount\n",
        "            print(f\"Withdrawn: ₹{amount}\")\n",
        "        else:\n",
        "            print(\"Insufficient balance or invalid amount.\")\n",
        "    def check_balance(self):\n",
        "        print(f\"Current Balance: ₹{self.__balance}\")"
      ],
      "metadata": {
        "id": "WXxjfC9_QWS3"
      },
      "execution_count": 3,
      "outputs": []
    },
    {
      "cell_type": "markdown",
      "source": [
        "6. Demonstrate runtime polymorphism using a method play() in a base class Instrument. Derive classes Guitar and Piano that implement their own version of play()?\n"
      ],
      "metadata": {
        "id": "EWDO1XN_QWuZ"
      }
    },
    {
      "cell_type": "code",
      "source": [
        "class Instrument:\n",
        "    def play(self):\n",
        "        print(\"Instrument is playing\")\n",
        "class Guitar(Instrument):\n",
        "    def play(self):\n",
        "        print(\"Strumming the guitar\")\n",
        "class Piano(Instrument):\n",
        "    def play(self):\n",
        "        print(\"Playing the piano keys\")\n",
        "def start_playing(instrument):\n",
        "    instrument.play()\n",
        "guitar = Guitar()\n",
        "piano = Piano()\n",
        "start_playing(guitar)\n",
        "start_playing(piano)"
      ],
      "metadata": {
        "colab": {
          "base_uri": "https://localhost:8080/"
        },
        "id": "39GAO1rhQbmf",
        "outputId": "7f64f084-6a19-4e5e-efee-18ef415a0924"
      },
      "execution_count": 4,
      "outputs": [
        {
          "output_type": "stream",
          "name": "stdout",
          "text": [
            "Strumming the guitar\n",
            "Playing the piano keys\n"
          ]
        }
      ]
    },
    {
      "cell_type": "markdown",
      "source": [
        "7. Create a class MathOperations with a class method add_numbers() to add two numbers and a static method subtract_numbers() to subtract two numbers?\n"
      ],
      "metadata": {
        "id": "TgKEDjwAQcJy"
      }
    },
    {
      "cell_type": "code",
      "source": [
        "class MathOperations:\n",
        "    @classmethod\n",
        "    def add_numbers(cls, a, b):\n",
        "        return a + b\n",
        "    @staticmethod\n",
        "    def subtract_numbers(a, b):\n",
        "        return a - b\n",
        "sum_result = MathOperations.add_numbers(10, 5)\n",
        "print(\"Sum:\", sum_result)\n",
        "difference = MathOperations.subtract_numbers(10, 5)\n",
        "print(\"Difference:\", difference)\n"
      ],
      "metadata": {
        "colab": {
          "base_uri": "https://localhost:8080/"
        },
        "id": "lurEG4rXQjMJ",
        "outputId": "1aa95f60-407d-42f7-d7f1-20d0f708fff6"
      },
      "execution_count": 5,
      "outputs": [
        {
          "output_type": "stream",
          "name": "stdout",
          "text": [
            "Sum: 15\n",
            "Difference: 5\n"
          ]
        }
      ]
    },
    {
      "cell_type": "markdown",
      "source": [
        "8. Implement a class Person with a class method to count the total number of persons created?"
      ],
      "metadata": {
        "id": "KoJUwxlrQjmw"
      }
    },
    {
      "cell_type": "code",
      "source": [
        "class Person:\n",
        "\n",
        "    person_count = 0\n",
        "    def __init__(self, name):\n",
        "        self.name = name\n",
        "        Person.person_count += 1\n",
        "    @classmethod\n",
        "    def get_person_count(cls):\n",
        "        return cls.person_count\n",
        "p1 = Person(\"Alice\")\n",
        "p2 = Person(\"Bob\")\n",
        "p3 = Person(\"Charlie\")\n",
        "print(\"Total Persons Created:\", Person.get_person_count())"
      ],
      "metadata": {
        "colab": {
          "base_uri": "https://localhost:8080/"
        },
        "id": "T92eLcNHQmcp",
        "outputId": "0cec56bb-0985-4e2c-9223-7f010efd6cba"
      },
      "execution_count": 6,
      "outputs": [
        {
          "output_type": "stream",
          "name": "stdout",
          "text": [
            "Total Persons Created: 3\n"
          ]
        }
      ]
    },
    {
      "cell_type": "markdown",
      "source": [
        "9. Write a class Fraction with attributes numerator and denominator. Override the str method to display the\n",
        "fraction as \"numerator/denominator\"?"
      ],
      "metadata": {
        "id": "7ma4vdS4Qm9q"
      }
    },
    {
      "cell_type": "code",
      "source": [
        "class Fraction:\n",
        "    def __init__(self, numerator, denominator):\n",
        "        self.numerator = numerator\n",
        "        self.denominator = denominator\n",
        "    def __str__(self):\n",
        "        return f\"{self.numerator}/{self.denominator}\"\n",
        "f1 = Fraction(3, 4)\n",
        "print(\"Fraction is:\", f1)"
      ],
      "metadata": {
        "colab": {
          "base_uri": "https://localhost:8080/"
        },
        "id": "m6PGOjE1Qstl",
        "outputId": "c5abaf78-b20a-41b1-bed4-2edd7ed2539d"
      },
      "execution_count": 7,
      "outputs": [
        {
          "output_type": "stream",
          "name": "stdout",
          "text": [
            "Fraction is: 3/4\n"
          ]
        }
      ]
    },
    {
      "cell_type": "markdown",
      "source": [
        "10. Demonstrate operator overloading by creating a class Vector and overriding the add method to add two vectors?\n"
      ],
      "metadata": {
        "id": "6N0lqlRQQtcw"
      }
    },
    {
      "cell_type": "code",
      "source": [
        "class Vector:\n",
        "    def __init__(self, x, y):\n",
        "        self.x = x\n",
        "        self.y = y\n",
        "    def __add__(self, other):\n",
        "        return Vector(self.x + other.x, self.y + other.y)\n",
        "    def __str__(self):\n",
        "        return f\"Vector({self.x}, {self.y})\"\n",
        "v1 = Vector(2, 3)\n",
        "v2 = Vector(4, 1)\n",
        "v3 = v1 + v2\n",
        "print(\"Resultant Vector:\", v3)"
      ],
      "metadata": {
        "colab": {
          "base_uri": "https://localhost:8080/"
        },
        "id": "6fwhK93uQyKd",
        "outputId": "d49b6893-b7f4-4658-e977-42fba80d5db7"
      },
      "execution_count": 8,
      "outputs": [
        {
          "output_type": "stream",
          "name": "stdout",
          "text": [
            "Resultant Vector: Vector(6, 4)\n"
          ]
        }
      ]
    },
    {
      "cell_type": "markdown",
      "source": [
        "11. Create a class Person with attributes name and age. Add a method greet() that prints \"Hello, my name is\n",
        "{name} and I am {age} years old?"
      ],
      "metadata": {
        "id": "ymtN2hE2Qyld"
      }
    },
    {
      "cell_type": "code",
      "source": [
        "class Person:\n",
        "    def __init__(self, name, age):\n",
        "        self.name = name\n",
        "        self.age = age\n",
        "    def greet(self):\n",
        "        print(f\"Hello, my name is {self.name} and I am {self.age} years old\")\n",
        "p1 = Person(\"Alice\", 25)\n",
        "p1.greet()\n"
      ],
      "metadata": {
        "colab": {
          "base_uri": "https://localhost:8080/"
        },
        "id": "ccORHw6EQ20I",
        "outputId": "63e55683-799c-43a9-d526-b12fd9bb457d"
      },
      "execution_count": 9,
      "outputs": [
        {
          "output_type": "stream",
          "name": "stdout",
          "text": [
            "Hello, my name is Alice and I am 25 years old\n"
          ]
        }
      ]
    },
    {
      "cell_type": "markdown",
      "source": [
        "12. Implement a class Student with attributes name and grades. Create a method average_grade() to compute the average of the grades?\n"
      ],
      "metadata": {
        "id": "4J9BZL-4Q5Qc"
      }
    },
    {
      "cell_type": "code",
      "source": [
        "class Student:\n",
        "    def __init__(self, name, grades):\n",
        "        self.name = name\n",
        "        self.grades = grades\n",
        "    def average_grade(self):\n",
        "        if self.grades:\n",
        "            return sum(self.grades) / len(self.grades)\n",
        "        else:\n",
        "            return 0\n",
        "s1 = Student(\"Ramya\", [85, 90, 78, 92, 88])\n",
        "print(f\"{s1.name}'s Average Grade:\", s1.average_grade())\n"
      ],
      "metadata": {
        "colab": {
          "base_uri": "https://localhost:8080/"
        },
        "id": "NI9pNiwOQ9ZL",
        "outputId": "ef5c0275-7b5f-45ba-e8c6-d191271f98cc"
      },
      "execution_count": 10,
      "outputs": [
        {
          "output_type": "stream",
          "name": "stdout",
          "text": [
            "Ramya's Average Grade: 86.6\n"
          ]
        }
      ]
    },
    {
      "cell_type": "markdown",
      "source": [
        "13. Create a class Rectangle with methods set_dimensions() to set the dimensions and area() to calculate the\n",
        "area?"
      ],
      "metadata": {
        "id": "5m4U_iZ4Q90C"
      }
    },
    {
      "cell_type": "code",
      "source": [
        "class Rectangle:\n",
        "    def __init__(self):\n",
        "        self.length = 0\n",
        "        self.width = 0\n",
        "    def set_dimensions(self, length, width):\n",
        "        self.length = length\n",
        "        self.width = width\n",
        "    def area(self):\n",
        "        return self.length * self.width\n",
        "rect = Rectangle()\n",
        "rect.set_dimensions(5, 3)\n",
        "print(\"Area of Rectangle:\", rect.area())\n"
      ],
      "metadata": {
        "colab": {
          "base_uri": "https://localhost:8080/"
        },
        "id": "QV6CNEdFRB0Q",
        "outputId": "c1211dbd-8561-4191-bbba-c6f4c02417e6"
      },
      "execution_count": 11,
      "outputs": [
        {
          "output_type": "stream",
          "name": "stdout",
          "text": [
            "Area of Rectangle: 15\n"
          ]
        }
      ]
    },
    {
      "cell_type": "markdown",
      "source": [
        "14. Create a class Employee with a method calculate_salary() that computes the salary based on hours worked and hourly rate. Create a derived class Manager that adds a bonus to the salary?\n",
        "\n"
      ],
      "metadata": {
        "id": "u1qTltf3RCOh"
      }
    },
    {
      "cell_type": "code",
      "source": [
        "class Employee:\n",
        "    def __init__(self, name, hours_worked, hourly_rate):\n",
        "        self.name = name\n",
        "        self.hours_worked = hours_worked\n",
        "        self.hourly_rate = hourly_rate\n",
        "    def calculate_salary(self):\n",
        "        return self.hours_worked * self.hourly_rate\n",
        "class Manager(Employee):\n",
        "    def __init__(self, name, hours_worked, hourly_rate, bonus):\n",
        "        super().__init__(name, hours_worked, hourly_rate)\n",
        "        self.bonus = bonus\n",
        "    def calculate_salary(self):\n",
        "        return super().calculate_salary() + self.bonus\n",
        "emp = Employee(\"Alice\", 160, 25)\n",
        "mgr = Manager(\"Bob\", 160, 30, 5000)\n",
        "print(f\"{emp.name}'s Salary: ₹{emp.calculate_salary()}\")\n",
        "print(f\"{mgr.name}'s Salary: ₹{mgr.calculate_salary()}\")\n"
      ],
      "metadata": {
        "colab": {
          "base_uri": "https://localhost:8080/"
        },
        "id": "lMgXkHFwRIRW",
        "outputId": "d6e1e372-816a-4314-d3e5-7c2eae5345b1"
      },
      "execution_count": 12,
      "outputs": [
        {
          "output_type": "stream",
          "name": "stdout",
          "text": [
            "Alice's Salary: ₹4000\n",
            "Bob's Salary: ₹9800\n"
          ]
        }
      ]
    },
    {
      "cell_type": "markdown",
      "source": [
        "15. Create a class Product with attributes name, price, and quantity. Implement a method total_price() that calculates the total price of the product?\n"
      ],
      "metadata": {
        "id": "rvmY5zZpRIvU"
      }
    },
    {
      "cell_type": "code",
      "source": [
        "class Product:\n",
        "    def __init__(self, name, price, quantity):\n",
        "        self.name = name\n",
        "        self.price = price\n",
        "        self.quantity = quantity\n",
        "    def total_price(self):\n",
        "        return self.price * self.quantity\n",
        "product = Product(\"Laptop\", 50000, 2)\n",
        "print(f\"Total price for {product.name}: ₹{product.total_price()}\")\n"
      ],
      "metadata": {
        "colab": {
          "base_uri": "https://localhost:8080/"
        },
        "id": "yK5L0QvERNPV",
        "outputId": "f04aa80e-a21b-418c-d998-3dc47f693bd5"
      },
      "execution_count": 13,
      "outputs": [
        {
          "output_type": "stream",
          "name": "stdout",
          "text": [
            "Total price for Laptop: ₹100000\n"
          ]
        }
      ]
    },
    {
      "cell_type": "markdown",
      "source": [
        "16. Create a class Animal with an abstract method sound(). Create two derived classes Cow and Sheep that implement the sound() method?\n"
      ],
      "metadata": {
        "id": "YDDPqTUDRNpQ"
      }
    },
    {
      "cell_type": "code",
      "source": [
        "from abc import ABC, abstractmethod\n",
        "class Animal(ABC):\n",
        "    @abstractmethod\n",
        "    def sound(self):\n",
        "        pass\n",
        "class Cow(Animal):\n",
        "    def sound(self):\n",
        "        return \"Moo\"\n",
        "class Sheep(Animal):\n",
        "    def sound(self):\n",
        "        return \"Baa\"\n",
        "cow = Cow()\n",
        "sheep = Sheep()\n",
        "print(f\"Cow says: {cow.sound()}\")\n",
        "print(f\"Sheep says: {sheep.sound()}\")\n"
      ],
      "metadata": {
        "colab": {
          "base_uri": "https://localhost:8080/"
        },
        "id": "Ovo_8dynRS7N",
        "outputId": "08f24c05-1eae-4a93-ff96-09728f28b58c"
      },
      "execution_count": 14,
      "outputs": [
        {
          "output_type": "stream",
          "name": "stdout",
          "text": [
            "Cow says: Moo\n",
            "Sheep says: Baa\n"
          ]
        }
      ]
    },
    {
      "cell_type": "markdown",
      "source": [
        "17. Create a class Book with attributes title, author, and year_published. Add a method get_book_info() that returns a formatted string with the book's details?\n"
      ],
      "metadata": {
        "id": "k7ndlyusRTbG"
      }
    },
    {
      "cell_type": "code",
      "source": [
        "class Book:\n",
        "    def __init__(self, title, author, year_published):\n",
        "        self.title = title\n",
        "        self.author = author\n",
        "        self.year_published = year_published\n",
        "    def get_book_info(self):\n",
        "        return f\"Title: {self.title}\\nAuthor: {self.author}\\nYear Published: {self.year_published}\"\n",
        "book = Book(\"To Kill a Mockingbird\", \"Harper Lee\", 1960)\n",
        "print(book.get_book_info())\n"
      ],
      "metadata": {
        "colab": {
          "base_uri": "https://localhost:8080/"
        },
        "id": "Js6pw7gqRXw2",
        "outputId": "3c138c59-3b7b-40f8-fe73-1942b6f2850e"
      },
      "execution_count": 15,
      "outputs": [
        {
          "output_type": "stream",
          "name": "stdout",
          "text": [
            "Title: To Kill a Mockingbird\n",
            "Author: Harper Lee\n",
            "Year Published: 1960\n"
          ]
        }
      ]
    },
    {
      "cell_type": "markdown",
      "source": [
        "18. Create a class House with attributes address and price. Create a derived class Mansion that adds an attribute number_of_rooms?\n"
      ],
      "metadata": {
        "id": "VHA0_cdBRYKH"
      }
    },
    {
      "cell_type": "code",
      "source": [
        "# Base class\n",
        "class House:\n",
        "    def __init__(self, address, price):\n",
        "        self.address = address\n",
        "        self.price = price\n",
        "    def get_house_info(self):\n",
        "        return f\"Address: {self.address}\\nPrice: ₹{self.price}\"\n",
        "class Mansion(House):\n",
        "    def __init__(self, address, price, number_of_rooms):\n",
        "        super().__init__(address, price)\n",
        "        self.number_of_rooms = number_of_rooms\n",
        "    def get_mansion_info(self):\n",
        "        return f\"{self.get_house_info()}\\nNumber of Rooms: {self.number_of_rooms}\""
      ],
      "metadata": {
        "id": "DKQgSQDnRceJ"
      },
      "execution_count": 16,
      "outputs": []
    }
  ]
}